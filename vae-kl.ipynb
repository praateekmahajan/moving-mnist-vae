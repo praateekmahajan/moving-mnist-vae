{
 "cells": [
  {
   "cell_type": "code",
   "execution_count": 1,
   "metadata": {},
   "outputs": [
    {
     "name": "stdout",
     "output_type": "stream",
     "text": [
      "Populating the interactive namespace from numpy and matplotlib\n"
     ]
    }
   ],
   "source": [
    "%pylab inline\n",
    "import numpy as np\n",
    "import torch\n",
    "from torchvision import datasets, transforms\n",
    "from torch.distributions import Normal\n",
    "from torch import nn, optim\n",
    "from torch.nn import functional as F\n",
    "import os\n",
    "import torch\n",
    "from movingmnistdataset import MovingMNISTDataset\n",
    "import os\n",
    "# from pixlcnn import *\n",
    "os.environ[\"CUDA_DEVICE_ORDER\"]=\"PCI_BUS_ID\"   # see issue #152\n",
    "os.environ[\"CUDA_VISIBLE_DEVICES\"]=\"2\"\n",
    "\n",
    "MNIST_PATH = 'data/mnist'\n",
    "device = torch.device(\"cuda\" if torch.cuda.is_available() else \"cpu\")"
   ]
  },
  {
   "cell_type": "code",
   "execution_count": 2,
   "metadata": {},
   "outputs": [],
   "source": [
    "transform = transforms.Compose([\n",
    "                       transforms.ToTensor(),\n",
    "                       transforms.Normalize((0.1307,), (0.3081,))\n",
    "                  ])\n",
    "target_transform = transforms.Compose([\n",
    "                       transforms.ToTensor(),\n",
    "                  ])"
   ]
  },
  {
   "cell_type": "code",
   "execution_count": 3,
   "metadata": {},
   "outputs": [],
   "source": [
    "train_loader = torch.utils.data.DataLoader(\n",
    "    MovingMNISTDataset(train=True, folder=\"data\", transform=transform, target_transform=target_transform),\n",
    "    batch_size=96, shuffle=True, num_workers=2,\n",
    "    pin_memory=True\n",
    ")\n",
    "test_loader = torch.utils.data.DataLoader(\n",
    "    MovingMNISTDataset(train=False,folder=\"data\", transform=transform, target_transform=target_transform),\n",
    "    batch_size=32, shuffle=True, num_workers=0,\n",
    "    pin_memory=True\n",
    ")\n"
   ]
  },
  {
   "cell_type": "code",
   "execution_count": 4,
   "metadata": {},
   "outputs": [
    {
     "data": {
      "text/plain": [
       "60000"
      ]
     },
     "execution_count": 4,
     "metadata": {},
     "output_type": "execute_result"
    }
   ],
   "source": [
    "len(MovingMNISTDataset(train=True, folder=\"data\", transform=transform, target_transform=target_transform))"
   ]
  },
  {
   "cell_type": "code",
   "execution_count": 20,
   "metadata": {},
   "outputs": [],
   "source": [
    "# replace this with torch.distributions\n",
    "def kl_divergence(encoding_mu, encoding_logvar):\n",
    "    return -0.5 * torch.sum(encoding_logvar - (encoding_logvar).exp() - encoding_mu.pow(2) + 1)\n",
    "\n",
    "class VAE_Encoder(nn.Module):\n",
    "    def __init__(self, in_channels, intermediate_channels, z_dimensions):\n",
    "        super(VAE_Encoder, self).__init__()\n",
    "        self.conv1 = nn.Conv2d(in_channels, intermediate_channels, kernel_size=3, stride=2, padding=1, bias=True)\n",
    "        self.conv2 = nn.Conv2d(intermediate_channels, intermediate_channels, kernel_size=3, stride=2, padding=1, bias=True)\n",
    "        self.conv3 = nn.Conv2d(intermediate_channels, intermediate_channels, kernel_size=3, stride=2, padding=1, bias=True)\n",
    "        self.conv4 = nn.Conv2d(intermediate_channels, intermediate_channels, kernel_size=3, stride=2, padding=1, bias=True)\n",
    "        \n",
    "        self.conv_mu = nn.Conv2d(intermediate_channels, z_dimensions, kernel_size=3, stride=2, padding=1, bias=True)\n",
    "        self.conv_logvar = nn.Conv2d(intermediate_channels, z_dimensions, kernel_size=3, stride=2, padding=1, bias=True)\n",
    "        # N x Z x 2 x 2\n",
    "  \n",
    "    def forward(self, x):\n",
    "        x = F.relu(self.conv1(x))\n",
    "        x = F.relu(self.conv2(x))\n",
    "        x = F.relu(self.conv3(x))\n",
    "        x = F.relu(self.conv4(x))\n",
    "        \n",
    "        mu = self.conv_mu(x)\n",
    "        logvar = self.conv_logvar(x)\n",
    "        return (mu, logvar)\n",
    "  \n",
    "    def rsample(self, mu, logvar):\n",
    "        m = Normal(mu, torch.exp(logvar * 0.5))\n",
    "        return m.rsample()\n",
    "\n",
    "\n",
    "class VAE_Decoder(nn.Module):\n",
    "    def __init__(self, in_channels, intermediate_channels, z_dimensions):\n",
    "        super(VAE_Decoder, self).__init__()\n",
    "        self.m1 = nn.Upsample(scale_factor=2, mode='nearest')        \n",
    "        self.m2 = nn.Upsample(scale_factor=4, mode='nearest')\n",
    "        self.m3 = nn.Upsample(scale_factor=2, mode='nearest')        \n",
    "        self.m4 = nn.Upsample(scale_factor=2, mode='nearest')        \n",
    "        self.conv1 = nn.Conv2d(z_dimensions, intermediate_channels, kernel_size=3, stride=1, padding=1, bias=True)\n",
    "        self.conv2 = nn.Conv2d(intermediate_channels, intermediate_channels, kernel_size=3, stride=1, padding=1, bias=True)\n",
    "        self.conv3 = nn.Conv2d(intermediate_channels, intermediate_channels, kernel_size=3, stride=1, padding=1, bias=True)\n",
    "        self.conv4 = nn.Conv2d(intermediate_channels, 256, kernel_size=3, stride=1, padding=1, bias=True)\n",
    "        \n",
    "    def forward(self, x):\n",
    "        x = F.elu(self.conv1(self.m1(x)))\n",
    "        x = F.elu(self.conv2(self.m2(x)))\n",
    "        x = F.elu(self.conv3(self.m3(x)))\n",
    "        x = self.conv4(self.m4(x))\n",
    "        return x\n"
   ]
  },
  {
   "cell_type": "code",
   "execution_count": 21,
   "metadata": {},
   "outputs": [],
   "source": [
    "z_dimensions = 32\n",
    "lr = 1e-3\n",
    "momentum = 0.9\n",
    "\n",
    "in_channels = 1\n",
    "intermediate_channels = 32\n",
    "\n",
    "encoder = VAE_Encoder(in_channels, intermediate_channels, z_dimensions).to(device)\n",
    "decoder = VAE_Decoder(in_channels, intermediate_channels, z_dimensions).to(device)"
   ]
  },
  {
   "cell_type": "code",
   "execution_count": 22,
   "metadata": {},
   "outputs": [],
   "source": [
    "optimizer = optim.Adam(list(encoder.parameters()) + list(decoder.parameters()))"
   ]
  },
  {
   "cell_type": "code",
   "execution_count": 23,
   "metadata": {},
   "outputs": [
    {
     "data": {
      "image/png": "[encoded data removed]",
      "text/plain": [
       "<Figure size 432x288 with 2 Axes>"
      ]
     },
     "metadata": {
      "needs_background": "light"
     },
     "output_type": "display_data"
    },
    {
     "data": {
      "image/png": "[encoded data removed]",
      "text/plain": [
       "<Figure size 432x288 with 2 Axes>"
      ]
     },
     "metadata": {
      "needs_background": "light"
     },
     "output_type": "display_data"
    },
    {
     "name": "stdout",
     "output_type": "stream",
     "text": [
      "epoch=0; nll_tr=423.3757857; time_tr=95.6s;\n"
     ]
    },
    {
     "data": {
      "image/png": "[encoded data removed]",
      "text/plain": [
       "<Figure size 432x288 with 2 Axes>"
      ]
     },
     "metadata": {
      "needs_background": "light"
     },
     "output_type": "display_data"
    },
    {
     "data": {
      "image/png": "[encoded data removed]",
      "text/plain": [
       "<Figure size 432x288 with 2 Axes>"
      ]
     },
     "metadata": {
      "needs_background": "light"
     },
     "output_type": "display_data"
    },
    {
     "name": "stdout",
     "output_type": "stream",
     "text": [
      "epoch=1; nll_tr=125.7597254; time_tr=104.4s;\n"
     ]
    },
    {
     "data": {
      "image/png": "[encoded data removed]",
      "text/plain": [
       "<Figure size 432x288 with 2 Axes>"
      ]
     },
     "metadata": {
      "needs_background": "light"
     },
     "output_type": "display_data"
    },
    {
     "data": {
      "image/png": "[encoded data removed]",
      "text/plain": [
       "<Figure size 432x288 with 2 Axes>"
      ]
     },
     "metadata": {
      "needs_background": "light"
     },
     "output_type": "display_data"
    },
    {
     "name": "stdout",
     "output_type": "stream",
     "text": [
      "epoch=2; nll_tr=109.0378286; time_tr=106.6s;\n"
     ]
    },
    {
     "data": {
      "image/png": "[encoded data removed]",
      "text/plain": [
       "<Figure size 432x288 with 2 Axes>"
      ]
     },
     "metadata": {
      "needs_background": "light"
     },
     "output_type": "display_data"
    },
    {
     "data": {
      "image/png": "[encoded data removed]",
      "text/plain": [
       "<Figure size 432x288 with 2 Axes>"
      ]
     },
     "metadata": {
      "needs_background": "light"
     },
     "output_type": "display_data"
    },
    {
     "name": "stdout",
     "output_type": "stream",
     "text": [
      "epoch=3; nll_tr=101.7563074; time_tr=106.9s;\n"
     ]
    },
    {
     "data": {
      "image/png": "[encoded data removed]",
      "text/plain": [
       "<Figure size 432x288 with 2 Axes>"
      ]
     },
     "metadata": {
      "needs_background": "light"
     },
     "output_type": "display_data"
    },
    {
     "data": {
      "image/png": "[encoded data removed]",
      "text/plain": [
       "<Figure size 432x288 with 2 Axes>"
      ]
     },
     "metadata": {
      "needs_background": "light"
     },
     "output_type": "display_data"
    },
    {
     "name": "stdout",
     "output_type": "stream",
     "text": [
      "epoch=4; nll_tr=96.4349157; time_tr=106.3s;\n"
     ]
    }
   ],
   "source": [
    "losses = []\n",
    "q_z = Normal(torch.tensor(0.).to(device), torch.tensor(1.).to(device))\n",
    "for epoch in range(5):\n",
    "    # train\n",
    "    err_tr = []\n",
    "    time_tr = time.time()\n",
    "    curr_loss = []\n",
    "    encoder.train(True)\n",
    "    decoder.train(True)\n",
    "    for idx, (x, y) in enumerate(train_loader):\n",
    "        x = x.to(device) # range is negative to positive\n",
    "        y = y.to(device).long()[:,0,:,:] * 255\n",
    "        encoding_mu, encoding_logvar = encoder(x)\n",
    "        encoding = encoder.rsample(encoding_mu, encoding_logvar)\n",
    "        reconstruction = decoder(encoding)\n",
    "        # Run it with the more complext PixelCNN using gates        \n",
    "        # Try U-Net on Simple\n",
    "        # VAE + Complex PixelCNN and U-Net        \n",
    "        # Add loss term between z_image and input\n",
    "        # Produce parameterhttp://localhost:8889/notebooks/vae-conv-only.ipynb#s from VAE for PixelCNN\n",
    "#         px_given_z =   - Normal(reconstruction, 0.1).log_prob(data).sum() / x.shape[0]\n",
    "#         kl = kl_divergence(encoding_logvar, encoding_mu) / x.shape[0]\n",
    "\n",
    "        q_z_x = Normal(encoding_mu, (0.5 * encoding_logvar).exp())\n",
    "        px_given_z = (F.cross_entropy(reconstruction, y, reduction='none') / x.shape[0]).sum()\n",
    "        kl = (torch.distributions.kl.kl_divergence(q_z_x, q_z) / x.shape[0]).sum()\n",
    "        loss = px_given_z +  kl\n",
    "        curr_loss.append(loss.item())\n",
    "        err_tr.append((px_given_z.item(), kl.item()))\n",
    "\n",
    "        optimizer.zero_grad()\n",
    "        loss.backward()\n",
    "        optimizer.step()\n",
    "        if idx % 400 == 0:\n",
    "            plt.figure()\n",
    "            plt.subplot(1,2,1)\n",
    "            imshow(x[0].view(64,64).detach(), cmap='gray')\n",
    "            plt.subplot(1,2,2)\n",
    "            imshow(reconstruction[0].argmax(dim=0).view(64,64).detach(), cmap='gray')\n",
    "            plt.show()\n",
    "    losses.extend(err_tr)\n",
    "    time_tr = time.time() - time_tr\n",
    "    print('epoch={}; nll_tr={:.7f}; time_tr={:.1f}s;'.format(\n",
    "        epoch, np.mean(curr_loss), time_tr))\n",
    "\n"
   ]
  },
  {
   "cell_type": "code",
   "execution_count": 25,
   "metadata": {},
   "outputs": [
    {
     "data": {
      "text/plain": [
       "(torch.Size([96, 64, 64]), torch.Size([96, 256, 64, 64]))"
      ]
     },
     "execution_count": 25,
     "metadata": {},
     "output_type": "execute_result"
    }
   ],
   "source": [
    "y.shape, reconstruction.shape"
   ]
  },
  {
   "cell_type": "code",
   "execution_count": 26,
   "metadata": {},
   "outputs": [],
   "source": [
    "encoder.eval()\n",
    "decoder.eval()\n",
    "for idx, (x, y) in enumerate(test_loader):\n",
    "    x = x.to(device) # range is negative to positive\n",
    "    y = y.to(device).long()[:,0,:,:] * 255\n",
    "    encoding_mu, encoding_logvar = encoder(x)\n",
    "    encoding = encoder.rsample(encoding_mu, encoding_logvar)\n",
    "    reconstruction = decoder(encoding)\n",
    "    break"
   ]
  },
  {
   "cell_type": "code",
   "execution_count": 63,
   "metadata": {},
   "outputs": [],
   "source": [
    "output_ = torch.zeros(x.shape)\n",
    "probs = F.softmax(reconstruction, dim=1)\n",
    "for i in range(28):\n",
    "    for j in range(28):\n",
    "        output_[:, :, i,j] = torch.multinomial(probs[:, :, i, j], 1).float()"
   ]
  },
  {
   "cell_type": "code",
   "execution_count": 68,
   "metadata": {},
   "outputs": [
    {
     "data": {
      "text/plain": [
       "<matplotlib.image.AxesImage at 0x7fc7d75db208>"
      ]
     },
     "execution_count": 68,
     "metadata": {},
     "output_type": "execute_result"
    },
    {
     "data": {
      "image/png": "[encoded data removed]",
      "text/plain": [
       "<Figure size 72x2160 with 1 Axes>"
      ]
     },
     "metadata": {
      "needs_background": "light"
     },
     "output_type": "display_data"
    }
   ],
   "source": [
    "plt.figure(figsize=(1,30))\n",
    "imshow(output_.view(-1,64), cmap='gray')"
   ]
  },
  {
   "cell_type": "code",
   "execution_count": null,
   "metadata": {},
   "outputs": [],
   "source": []
  }
 ],
 "metadata": {
  "kernelspec": {
   "display_name": "Python 3",
   "language": "python",
   "name": "python3"
  },
  "language_info": {
   "codemirror_mode": {
    "name": "ipython",
    "version": 3
   },
   "file_extension": ".py",
   "mimetype": "text/x-python",
   "name": "python",
   "nbconvert_exporter": "python",
   "pygments_lexer": "ipython3",
   "version": "3.6.6"
  }
 },
 "nbformat": 4,
 "nbformat_minor": 2
}
