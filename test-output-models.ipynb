{
 "cells": [
  {
   "cell_type": "code",
   "execution_count": 1,
   "metadata": {},
   "outputs": [
    {
     "ename": "ModuleNotFoundError",
     "evalue": "No module named 'tqdm'",
     "output_type": "error",
     "traceback": [
      "\u001b[0;31m---------------------------------------------------------------------------\u001b[0m",
      "\u001b[0;31mModuleNotFoundError\u001b[0m                       Traceback (most recent call last)",
      "\u001b[0;32m<ipython-input-1-a0e3bc885c09>\u001b[0m in \u001b[0;36m<module>\u001b[0;34m\u001b[0m\n\u001b[1;32m      4\u001b[0m \u001b[0;32mfrom\u001b[0m \u001b[0mtorch\u001b[0m\u001b[0;34m.\u001b[0m\u001b[0mdistributions\u001b[0m \u001b[0;32mimport\u001b[0m \u001b[0mNormal\u001b[0m\u001b[0;34m\u001b[0m\u001b[0m\n\u001b[1;32m      5\u001b[0m \u001b[0;32mimport\u001b[0m \u001b[0mtorch\u001b[0m\u001b[0;34m.\u001b[0m\u001b[0mnn\u001b[0m\u001b[0;34m.\u001b[0m\u001b[0mfunctional\u001b[0m \u001b[0;32mas\u001b[0m \u001b[0mF\u001b[0m\u001b[0;34m\u001b[0m\u001b[0m\n\u001b[0;32m----> 6\u001b[0;31m \u001b[0;32mfrom\u001b[0m \u001b[0mtqdm\u001b[0m \u001b[0;32mimport\u001b[0m \u001b[0mtqdm_notebook\u001b[0m \u001b[0;32mas\u001b[0m \u001b[0mtqdm\u001b[0m\u001b[0;34m\u001b[0m\u001b[0m\n\u001b[0m\u001b[1;32m      7\u001b[0m \u001b[0;34m\u001b[0m\u001b[0m\n",
      "\u001b[0;31mModuleNotFoundError\u001b[0m: No module named 'tqdm'"
     ]
    }
   ],
   "source": [
    "import torch\n",
    "from torch import nn\n",
    "from model import VAE\n",
    "from torch.distributions import Normal\n",
    "import torch.nn.functional as F\n"
   ]
  },
  {
   "cell_type": "code",
   "execution_count": 2,
   "metadata": {},
   "outputs": [],
   "source": [
    "in_channels = 1\n",
    "out_channels = 1\n",
    "intermediate_channels = 32\n",
    "z_dimensions = 16\n",
    "sigma_decoder = 0.1\n",
    "q_z = Normal(torch.tensor(0.), torch.tensor(1.))\n",
    "\n",
    "vae_with_no_kl = VAE(in_channels, intermediate_channels, 1, z_dimensions, pixelcnn=False, kl=0, mmd=0)\n",
    "vae_with_kl = VAE(in_channels, intermediate_channels, 1, z_dimensions, pixelcnn=False)\n",
    "vae_with_mmd = VAE(in_channels, intermediate_channels, 1, z_dimensions, pixelcnn=False, kl=0, mmd=1, require_rsample=False)\n",
    "\n",
    "pixelvae_with_no_kl = VAE(in_channels, intermediate_channels, 256, z_dimensions, pixelcnn=True,kl=0, sigma_decoder=0, require_rsample=False)\n",
    "pixelvae_with_kl = VAE(in_channels, intermediate_channels, 256, z_dimensions, pixelcnn=True, kl=1, mmd=0, sigma_decoder=0)\n",
    "pixelvae_with_mmd = VAE(in_channels, intermediate_channels, 256, z_dimensions, pixelcnn=True, kl=0, mmd=1, require_rsample=False, sigma_decoder=0)\n"
   ]
  },
  {
   "cell_type": "code",
   "execution_count": 23,
   "metadata": {},
   "outputs": [],
   "source": [
    "input_1 = torch.randn(10,1,64,64)\n",
    "target_1 = torch.randn(10,1,64,64)\n",
    "target_255 = torch.randint(0, 256, (10,64,64)).long()"
   ]
  },
  {
   "cell_type": "code",
   "execution_count": 24,
   "metadata": {},
   "outputs": [
    {
     "name": "stdout",
     "output_type": "stream",
     "text": [
      "I am going to rsample from mu and logvar\n",
      "NLL is Normal related\n",
      "tensor(201467.1875, grad_fn=<DivBackward0>)\n"
     ]
    }
   ],
   "source": [
    "mu, logvar, encoding, reconstruction = vae_with_no_kl(input_1)\n",
    "vae_with_no_kl.loss(target_1, mu, logvar, encoding, reconstruction)\n",
    "print(-Normal(reconstruction, sigma_decoder).log_prob(target_1).sum() / target_1.shape[0])"
   ]
  },
  {
   "cell_type": "code",
   "execution_count": 25,
   "metadata": {},
   "outputs": [
    {
     "name": "stdout",
     "output_type": "stream",
     "text": [
      "I am going to rsample from mu and logvar\n",
      "Loss includes kl\n",
      "NLL is Normal related\n",
      "tensor(201555.0156, grad_fn=<DivBackward0>)\n",
      "tensor(201555.0156, grad_fn=<ThAddBackward>)\n"
     ]
    }
   ],
   "source": [
    "mu, logvar, encoding, reconstruction = vae_with_kl(input_1)\n",
    "q_z_x = Normal(mu, (0.5 * logvar).exp())\n",
    "print(vae_with_kl.loss(target_1, mu, logvar, encoding, reconstruction))\n",
    "print((-Normal(reconstruction, sigma_decoder).log_prob(target_1).sum())/target_1.shape[0] +\n",
    "     (torch.distributions.kl.kl_divergence(q_z_x, q_z).sum())/target_1.shape[0])"
   ]
  },
  {
   "cell_type": "code",
   "execution_count": 26,
   "metadata": {},
   "outputs": [
    {
     "name": "stdout",
     "output_type": "stream",
     "text": [
      "Loss includes MMD\n",
      "NLL is Normal related\n",
      "tensor(201791.4688, grad_fn=<DivBackward0>)\n",
      "tensor(201791.4375, grad_fn=<DivBackward0>)\n"
     ]
    }
   ],
   "source": [
    "mu, logvar, encoding, reconstruction = vae_with_mmd(input_1)\n",
    "mmd = vae_with_mmd.compute_mmd(torch.randn(input_1.shape[0], mu.shape[1]), encoding.view(-1, mu.shape[1]))\n",
    "print(vae_with_mmd.loss(target_1, mu, logvar, encoding, reconstruction))\n",
    "print((-Normal(reconstruction, sigma_decoder).log_prob(target_1).sum() + mmd)/input_1.shape[0])"
   ]
  },
  {
   "cell_type": "code",
   "execution_count": 47,
   "metadata": {},
   "outputs": [
    {
     "name": "stdout",
     "output_type": "stream",
     "text": [
      "NLL is Cross Entropy\n",
      "tensor(-0.0859, grad_fn=<ThSubBackward>)\n"
     ]
    }
   ],
   "source": [
    "input_1 = torch.randn(10,1,64,64)\n",
    "target_1 = torch.randn(10,1,64,64)\n",
    "target_255 = torch.randint(0, 256, (10,64,64)).long()\n",
    "\n",
    "mu, logvar, encoding, reconstruction = pixelvae_with_no_kl(input_1)\n",
    "print(pixelvae_with_no_kl.loss(target_255, mu, logvar, encoding, reconstruction) -\n",
    "F.cross_entropy(reconstruction, target_255, reduction='none').sum() / target_255.shape[0])"
   ]
  },
  {
   "cell_type": "code",
   "execution_count": 29,
   "metadata": {},
   "outputs": [
    {
     "name": "stdout",
     "output_type": "stream",
     "text": [
      "I am going to rsample from mu and logvar\n",
      "Loss includes kl\n",
      "NLL is Cross Entropy\n",
      "tensor(22833.8613, grad_fn=<DivBackward0>)\n",
      "tensor(22833.8613, grad_fn=<ThAddBackward>)\n"
     ]
    }
   ],
   "source": [
    "mu, logvar, encoding, reconstruction = pixelvae_with_kl(input_1)\n",
    "q_z_x = Normal(mu, (0.5 * logvar).exp())\n",
    "\n",
    "print(pixelvae_with_kl.loss(target_255, mu, logvar, encoding, reconstruction))\n",
    "print((F.cross_entropy(reconstruction, target_255, reduction='sum'))/target_1.shape[0] +\n",
    "     (torch.distributions.kl.kl_divergence(q_z_x, q_z).sum())/target_1.shape[0])"
   ]
  },
  {
   "cell_type": "code",
   "execution_count": 31,
   "metadata": {},
   "outputs": [
    {
     "name": "stdout",
     "output_type": "stream",
     "text": [
      "Loss includes MMD\n",
      "NLL is Cross Entropy\n",
      "tensor(22830.5156, grad_fn=<DivBackward0>)\n",
      "tensor(22830.2598, grad_fn=<DivBackward0>)\n"
     ]
    }
   ],
   "source": [
    "mu, logvar, encoding, reconstruction = pixelvae_with_mmd(input_1)\n",
    "mmd = pixelvae_with_mmd.compute_mmd(torch.randn(input_1.shape[0], mu.shape[1]), encoding.view(-1, mu.shape[1]))\n",
    "\n",
    "print(pixelvae_with_mmd.loss(target_255, mu, logvar, encoding, reconstruction))\n",
    "print(F.cross_entropy(reconstruction, target_255, reduction='sum') / target_255.shape[0]) "
   ]
  },
  {
   "cell_type": "code",
   "execution_count": null,
   "metadata": {},
   "outputs": [],
   "source": []
  }
 ],
 "metadata": {
  "kernelspec": {
   "display_name": "Python 3",
   "language": "python",
   "name": "python3"
  },
  "language_info": {
   "codemirror_mode": {
    "name": "ipython",
    "version": 3
   },
   "file_extension": ".py",
   "mimetype": "text/x-python",
   "name": "python",
   "nbconvert_exporter": "python",
   "pygments_lexer": "ipython3",
   "version": "3.6.6"
  }
 },
 "nbformat": 4,
 "nbformat_minor": 2
}
